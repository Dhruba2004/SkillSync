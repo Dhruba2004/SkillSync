{
 "cells": [
  {
   "cell_type": "markdown",
   "id": "f42f7ab4",
   "metadata": {},
   "source": [
    "## Text to speech\n"
   ]
  },
  {
   "cell_type": "code",
   "execution_count": null,
   "id": "27272c9f",
   "metadata": {},
   "outputs": [],
   "source": [
    "import os\n",
    "\n",
    "from dotenv import load_dotenv\n",
    "\n",
    "load_dotenv()\n",
    "\n",
    "GROQ_API_KEY = os.getenv(\"GROQ_API_KEY\") \n",
    "\n",
    "\n"
   ]
  },
  {
   "cell_type": "code",
   "execution_count": 9,
   "id": "71a120a5",
   "metadata": {},
   "outputs": [],
   "source": [
    "from groq import Groq\n",
    "\n",
    "client = Groq(api_key=GROQ_API_KEY)\n",
    "\n",
    "model = 'playai-tts'\n",
    "text = 'I love building and shipping new features for our users!'\n",
    "voice = \"Fritz-PlayAI\"\n",
    "response_format = 'wav'\n",
    "\n",
    "response = client.audio.speech.create(\n",
    "    model=model,\n",
    "    input=text,\n",
    "    voice=voice,\n",
    "    response_format=response_format)\n"
   ]
  },
  {
   "cell_type": "code",
   "execution_count": 10,
   "id": "057dd324",
   "metadata": {},
   "outputs": [],
   "source": [
    "speech_file_path = 'speech_test.wav'\n",
    "response.write_to_file(speech_file_path)"
   ]
  },
  {
   "cell_type": "markdown",
   "id": "da6cf0f1",
   "metadata": {},
   "source": [
    "## Speech to Text\n"
   ]
  },
  {
   "cell_type": "code",
   "execution_count": 11,
   "id": "3467d9af",
   "metadata": {},
   "outputs": [],
   "source": [
    "filename = 'speech_test.wav'\n",
    "\n",
    "with open(filename, 'rb') as f:\n",
    "    transcript = client.audio.transcriptions.create(\n",
    "        file=f,\n",
    "        model = 'whisper-large-v3-turbo',\n",
    "        prompt ='Transcribe the audio in the file.',\n",
    "        response_format='verbose_json',\n",
    "        timestamp_granularities = [\"word\", \"segment\"], # Optional (must set response_format to \"json\" to use and can specify \"word\", \"segment\" (default), or both)\n",
    "        language=\"en\",  # Optional\n",
    "        temperature=0.0  # Optional\n",
    "    )"
   ]
  },
  {
   "cell_type": "code",
   "execution_count": 12,
   "id": "69d5cbaf",
   "metadata": {},
   "outputs": [
    {
     "name": "stdout",
     "output_type": "stream",
     "text": [
      " I love building and shipping new features for our users.\n"
     ]
    }
   ],
   "source": [
    "print(transcript.text)"
   ]
  },
  {
   "cell_type": "markdown",
   "id": "34e93aaa",
   "metadata": {},
   "source": [
    "# Image Vision"
   ]
  },
  {
   "cell_type": "code",
   "execution_count": 13,
   "id": "e1af25e7",
   "metadata": {},
   "outputs": [
    {
     "name": "stderr",
     "output_type": "stream",
     "text": [
      "c:\\Users\\91824\\Desktop\\gen_ai\\.venv\\Lib\\site-packages\\tqdm\\auto.py:21: TqdmWarning: IProgress not found. Please update jupyter and ipywidgets. See https://ipywidgets.readthedocs.io/en/stable/user_install.html\n",
      "  from .autonotebook import tqdm as notebook_tqdm\n"
     ]
    }
   ],
   "source": [
    "import google.generativeai as genai\n",
    "\n",
    "GEMINI_API_KEY = os.getenv('GEMINI_API_KEY')\n",
    "\n",
    "genai.configure(api_key=GEMINI_API_KEY)\n",
    "\n"
   ]
  },
  {
   "cell_type": "code",
   "execution_count": 15,
   "id": "1ea5a1a0",
   "metadata": {},
   "outputs": [],
   "source": [
    "from PIL import Image\n",
    "image = Image.open('images/sakamoto.jpg')\n"
   ]
  },
  {
   "cell_type": "code",
   "execution_count": 18,
   "id": "5f69cdba",
   "metadata": {},
   "outputs": [],
   "source": [
    "model = genai.GenerativeModel(model_name='gemini-2.0-flash')\n",
    "response = model.generate_content([image,\"Whats this in the image?\"])"
   ]
  },
  {
   "cell_type": "code",
   "execution_count": 19,
   "id": "6280c3de",
   "metadata": {},
   "outputs": [
    {
     "name": "stdout",
     "output_type": "stream",
     "text": [
      "The image shows a scene inside a train carriage. There are several characters:\n",
      "\n",
      "*   A couple embracing on the left.\n",
      "\n",
      "*   A tall man with white hair and glasses wearing a yellow shirt and a green apron in the foreground.\n",
      "\n",
      "*   A man reading a newspaper in the background.\n",
      "\n",
      "*   There is a Netflix logo in the top left corner.\n"
     ]
    }
   ],
   "source": [
    "print(response.text)"
   ]
  },
  {
   "cell_type": "code",
   "execution_count": 21,
   "id": "6d6666f4",
   "metadata": {},
   "outputs": [],
   "source": [
    "my_file = genai.upload_file('images/sakamoto.jpg')"
   ]
  },
  {
   "cell_type": "code",
   "execution_count": 22,
   "id": "5e205ed8",
   "metadata": {},
   "outputs": [
    {
     "data": {
      "text/plain": [
       "genai.File({\n",
       "    'name': 'files/s04ye4atgrxs',\n",
       "    'display_name': 'sakamoto.jpg',\n",
       "    'download_uri': '',\n",
       "    'mime_type': 'image/jpeg',\n",
       "    'sha256_hash': 'YTRhN2I1MmQ0YjA5YjZlZDEyYjQ1MjYwODU0MTQzZTU3MWY3MDBjM2IxOTIxMzAyNDU0MGE4YTQxYjE2OTNlMA==',\n",
       "    'size_bytes': '76103',\n",
       "    'source': 'UPLOADED',\n",
       "    'state': 'ACTIVE',\n",
       "    'uri': 'https://generativelanguage.googleapis.com/v1beta/files/s04ye4atgrxs',\n",
       "    'create_time': '2025-06-19T08:01:47.276760Z',\n",
       "    'expiration_time': '2025-06-21T08:01:47.150041326Z',\n",
       "    'update_time': '2025-06-19T08:01:47.276760Z'})"
      ]
     },
     "execution_count": 22,
     "metadata": {},
     "output_type": "execute_result"
    }
   ],
   "source": [
    "my_file"
   ]
  },
  {
   "cell_type": "code",
   "execution_count": 23,
   "id": "1c0c8d1f",
   "metadata": {},
   "outputs": [
    {
     "name": "stdout",
     "output_type": "stream",
     "text": [
      "The image is an animation still from the Netflix series \"Jujutsu Kaisen.\" The scene takes place inside a train car. The main character in the foreground is Nanami Kento. Other people are in the background, including a man reading a newspaper, and a couple who are hugging each other.\n"
     ]
    }
   ],
   "source": [
    "res = model.generate_content([my_file,\"Whats this in the image?\"])\n",
    "print(res.text)"
   ]
  },
  {
   "cell_type": "markdown",
   "id": "de4393b7",
   "metadata": {},
   "source": [
    "## Using Groq"
   ]
  },
  {
   "cell_type": "code",
   "execution_count": 20,
   "id": "1c749b7d",
   "metadata": {},
   "outputs": [
    {
     "name": "stdout",
     "output_type": "stream",
     "text": [
      "The image depicts a cartoon scene of an older man standing on a crowded train, with the Netflix logo in the top-left corner. The man is dressed in a yellow shirt and green overalls, and he appears to be looking at something or someone with a sense of concern or unease.\n",
      "\n",
      "In the background, there are several other people on the train, including a man and a girl sitting down, and another man standing up reading a newspaper. The overall atmosphere of the image suggests that something unexpected or unusual is happening on the train, and the man in the foreground is reacting to it.\n",
      "\n",
      "**Key Elements:**\n",
      "\n",
      "* Older man in yellow shirt and green overalls\n",
      "* Netflix logo in top-left corner\n",
      "* Crowded train with several passengers\n",
      "* Man and girl sitting down\n",
      "* Man standing up reading a newspaper\n",
      "* Atmosphere of concern or unease\n",
      "\n",
      "**Possible Interpretation:**\n",
      "\n",
      "Based on the image, it appears that the scene is from an animated series or film available on Netflix. The man's expression and body language suggest that he may be responding to a sudden event or threat on the train, and the image may be a promotional poster for the show.\n"
     ]
    }
   ],
   "source": [
    "import base64\n",
    "import os\n",
    "\n",
    "# Function to encode the image\n",
    "def encode_image(image_path):\n",
    "  with open(image_path, \"rb\") as image_file:\n",
    "    return base64.b64encode(image_file.read()).decode('utf-8')\n",
    "\n",
    "# Path to your image\n",
    "image_path = \"images/sakamoto.jpg\"\n",
    "\n",
    "# Getting the base64 string\n",
    "base64_image = encode_image(image_path)\n",
    "\n",
    "\n",
    "\n",
    "chat_completion = client.chat.completions.create(\n",
    "    messages=[\n",
    "        {\n",
    "            \"role\": \"user\",\n",
    "            \"content\": [\n",
    "                {\"type\": \"text\", \"text\": \"What's in this image?\"},\n",
    "                {\n",
    "                    \"type\": \"image_url\",\n",
    "                    \"image_url\": {\n",
    "                        \"url\": f\"data:image/jpeg;base64,{base64_image}\",\n",
    "                    },\n",
    "                },\n",
    "            ],\n",
    "        }\n",
    "    ],\n",
    "    model=\"meta-llama/llama-4-scout-17b-16e-instruct\",\n",
    ")\n",
    "\n",
    "print(chat_completion.choices[0].message.content)"
   ]
  }
 ],
 "metadata": {
  "kernelspec": {
   "display_name": ".venv (3.12.4)",
   "language": "python",
   "name": "python3"
  },
  "language_info": {
   "codemirror_mode": {
    "name": "ipython",
    "version": 3
   },
   "file_extension": ".py",
   "mimetype": "text/x-python",
   "name": "python",
   "nbconvert_exporter": "python",
   "pygments_lexer": "ipython3",
   "version": "3.12.4"
  }
 },
 "nbformat": 4,
 "nbformat_minor": 5
}
