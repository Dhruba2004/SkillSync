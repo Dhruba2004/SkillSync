{
 "cells": [
  {
   "cell_type": "markdown",
   "id": "be91afa6",
   "metadata": {},
   "source": [
    "## Load the document"
   ]
  },
  {
   "cell_type": "code",
   "execution_count": 3,
   "id": "a6a60615",
   "metadata": {},
   "outputs": [],
   "source": [
    "from langchain.document_loaders import PyPDFLoader\n",
    "\n",
    "loader = PyPDFLoader(\"roman-empire.pdf\")"
   ]
  },
  {
   "cell_type": "code",
   "execution_count": 4,
   "id": "0cec8e40",
   "metadata": {},
   "outputs": [
    {
     "name": "stdout",
     "output_type": "stream",
     "text": [
      "Download Testbook App \n",
      " \n",
      " \n",
      " \n",
      "The Roman Republic, founded in 509 BC was a nation-state of the classical Roman Era that was governed \n",
      "by the citizens of Rome. After the Roman Republic was defeated, the Roman Empire was founded in 27 \n",
      "BCE, and it lasted until the Western Empire finally eclipsed it in the fifth century CE. The Roman Empire \n",
      "was centred on the city of Rome. Prior to the Roman Republic, which began in 27 BC and ended in 476 \n",
      "AD, there was a definite political, social, and cultural heritage that is still evident today. \n",
      "Roman Empire is one of the important topics for UPSC IAS exam. It also covers a significant part of GS \n",
      "paper-1 syllabus. In this article, we shall discuss the Holy Roman Empire, Roman Civilization, the history \n",
      "of Rome, decline and fall of the Roman empire. \n",
      "Download World History UPSC Notes here! \n",
      " \n",
      "https://blogmedia.testbook.com/blog/wp-content/uploads/2022/07/roman-empire-1-a94931b8.png \n",
      " \n",
      "Roman \n",
      "Empire \n",
      "UPSC World History Notes\n"
     ]
    }
   ],
   "source": [
    "loaded = loader.load()\n",
    "\n",
    "print(loaded[0].page_content)  # Print the first 1000 characters of the first page"
   ]
  },
  {
   "cell_type": "markdown",
   "id": "4152166a",
   "metadata": {},
   "source": [
    "## Chunking"
   ]
  },
  {
   "cell_type": "code",
   "execution_count": 5,
   "id": "61db1e1e",
   "metadata": {},
   "outputs": [
    {
     "name": "stdout",
     "output_type": "stream",
     "text": [
      "Download Testbook App \n",
      " \n",
      " \n",
      " \n",
      "The Roman Republic, founded in 509 BC was a nation-state of the classical Roman Era that was governed \n",
      "by the citizens of Rome. After the Roman Republic was defeated, the Roman Empire was founded in 27 \n",
      "BCE, and it lasted until the Western Empire finally eclipsed it in the fifth century CE. The Roman Empire \n",
      "was centred on the city of Rome. Prior to the Roman Republic, which began in 27 BC and ended in 476 \n",
      "AD, there was a definite political, social, and cultural heritage that is still evident today. \n",
      "Roman Empire is one of the important topics for UPSC IAS exam. It also covers a significant part of GS \n",
      "paper-1 syllabus. In this article, we shall discuss the Holy Roman Empire, Roman Civilization, the history \n",
      "of Rome, decline and fall of the Roman empire. \n",
      "Download World History UPSC Notes here! \n",
      " \n",
      "https://blogmedia.testbook.com/blog/wp-content/uploads/2022/07/roman-empire-1-a94931b8.png \n",
      " \n",
      "Roman \n",
      "Empire \n",
      "UPSC World History Notes\n"
     ]
    }
   ],
   "source": [
    "from langchain.text_splitter import RecursiveCharacterTextSplitter\n",
    "\n",
    "text_splitter = RecursiveCharacterTextSplitter(\n",
    "    chunk_size=1000,\n",
    "    chunk_overlap=200,\n",
    ")\n",
    "\n",
    "chunks = text_splitter.split_documents(loaded)\n",
    "\n",
    "len(chunks)\n",
    "\n",
    "print(chunks[0].page_content)"
   ]
  },
  {
   "cell_type": "code",
   "execution_count": 6,
   "id": "36bf7b0b",
   "metadata": {},
   "outputs": [
    {
     "data": {
      "text/plain": [
       "True"
      ]
     },
     "execution_count": 6,
     "metadata": {},
     "output_type": "execute_result"
    }
   ],
   "source": [
    "from dotenv import load_dotenv\n",
    "load_dotenv()"
   ]
  },
  {
   "cell_type": "code",
   "execution_count": 7,
   "id": "8546b7b2",
   "metadata": {},
   "outputs": [],
   "source": [
    "import os\n",
    "\n",
    "COHERE_API_KEY = os.getenv('COHERE_API_KEY')\n",
    "\n",
    "os.environ['COHERE_API_KEY'] = COHERE_API_KEY\n",
    "\n"
   ]
  },
  {
   "cell_type": "code",
   "execution_count": 8,
   "id": "ebf15d3c",
   "metadata": {},
   "outputs": [],
   "source": [
    "from langchain_cohere import CohereEmbeddings\n",
    "\n",
    "embeddings = CohereEmbeddings(model=\"embed-english-v3.0\")"
   ]
  },
  {
   "cell_type": "markdown",
   "id": "f43f041d",
   "metadata": {},
   "source": [
    "## Vector database"
   ]
  },
  {
   "cell_type": "code",
   "execution_count": 9,
   "id": "d96434b1",
   "metadata": {},
   "outputs": [
    {
     "name": "stdout",
     "output_type": "stream",
     "text": [
      "Page - 3 \n",
      " \n",
      "Download Testbook App \n",
      "73 BC The slave rebellion is led by the gladiator Spartacus. \n",
      "45 BC As the first dictator of Rome, Julius Caesar.  \n",
      "In order to take over as the only ruler of Rome, Caesar performs his renowned Crossing of the \n",
      "Rubicon and defeats Pompey in a civil war.  \n",
      "The Roman Republic is over as a result of this. \n",
      "44 BC Marcus Brutus killed Julius Caesar on the Ides of March. In an effort to restore the republic, \n",
      "civil war breaks out. \n",
      "27 BC Caesar Augustus becomes the first Roman Emperor, ushering in the Roman Empire. \n",
      "64 AD Rome is largely on fire. According to legend, Emperor Nero played the lyre while he observed \n",
      "the city burn. \n",
      "80 AD The Colosseum is constructed.  \n",
      "One of the finest works of Roman engineering has been completed. There are seats for 50,000 \n",
      "people. \n",
      "121 \n",
      "AD \n",
      "Buildup of the Hadrian Wall.  \n",
      "A substantial wall is erected across northern England to keep the barbarians out. \n",
      "306 \n",
      "AD \n",
      "Constantine ascends to the throne.\n"
     ]
    }
   ],
   "source": [
    "from langchain.vectorstores import FAISS\n",
    "\n",
    "vectorstore = FAISS.from_documents(chunks, embeddings)\n",
    "\n",
    "retriever = vectorstore.as_retriever()\n",
    "\n",
    "res = vectorstore.similarity_search(\"Who was julius Caesar\",k=10)\n",
    "print(res[0].page_content)\n",
    "\n"
   ]
  },
  {
   "cell_type": "markdown",
   "id": "1ef9825f",
   "metadata": {},
   "source": [
    "## Calling LLM"
   ]
  },
  {
   "cell_type": "code",
   "execution_count": 16,
   "id": "eeb24a47",
   "metadata": {},
   "outputs": [],
   "source": [
    "from langchain_cohere import ChatCohere\n",
    "llm = ChatCohere()"
   ]
  },
  {
   "cell_type": "code",
   "execution_count": 15,
   "id": "bbf6e46b",
   "metadata": {},
   "outputs": [],
   "source": [
    "from langchain.memory import ConversationBufferMemory"
   ]
  },
  {
   "cell_type": "code",
   "execution_count": 18,
   "id": "627ac3a4",
   "metadata": {},
   "outputs": [],
   "source": [
    "from langchain.chains import ConversationalRetrievalChain\n",
    "chain = ConversationalRetrievalChain.from_llm(\n",
    "    llm = llm,\n",
    "    retriever = vectorstore.as_retriever(),\n",
    "    memory = ConversationBufferMemory(memory_key='chat_history', return_messages=True)\n",
    ")"
   ]
  },
  {
   "cell_type": "code",
   "execution_count": 15,
   "id": "9251d287",
   "metadata": {},
   "outputs": [
    {
     "name": "stdout",
     "output_type": "stream",
     "text": [
      "The document provides an overview of the **Roman Empire** and its historical significance, particularly for the **UPSC IAS exam** and **World History studies**. Here’s a summary of the key points:\n",
      "\n",
      "1. **Historical Timeline**:  \n",
      "   - The **Roman Empire** began after the establishment of Rome in **753 BC**, according to legend founded by **Romulus and Remus**.  \n",
      "   - The **Roman Republic** was founded in **509 BC** after the expulsion of King Tarquin the Proud, marking the start of a 500-year republican period.  \n",
      "   - The Roman Empire was officially established in **27 BCE** after the fall of the Republic and lasted until the fall of the Western Roman Empire in **476 CE**.  \n",
      "\n",
      "2. **Key Features**:  \n",
      "   - Rome evolved from a small settlement into the capital of a vast empire, with a sophisticated economy to support its city and military.  \n",
      "   - The empire was governed by citizens during the Republic and later by emperors during the Empire.  \n",
      "\n",
      "3. **Decline and Fall**:  \n",
      "   - The fall of the Western Roman Empire is attributed to factors like the **Gothic Wars (376–382 CE)**, particularly the **Battle of Adrianople (378 CE)**, where Emperor Valens was defeated.  \n",
      "   - The rise of **Christianity** challenged the pagan-based social structure of Rome, though some historians like Orosius argued Christianity was not to blame.  \n",
      "\n",
      "4. **Relevance to UPSC**:  \n",
      "   - The Roman Empire is a significant topic in the **GS Paper-1 syllabus** for the UPSC IAS exam, covering its history, civilization, and decline.  \n",
      "\n",
      "5. **Additional Resources**:  \n",
      "   - The document mentions **Testbook** as a platform offering comprehensive notes, live tests, and mock exams for competitive exams, including UPSC.  \n",
      "\n",
      "The document emphasizes the importance of studying the Roman Empire for historical understanding and exam preparation, while also highlighting key events and factors in its rise and fall.\n"
     ]
    }
   ],
   "source": [
    "res = chain.invoke(\"Give me a summary of the document\")\n",
    "print(res['answer'])"
   ]
  },
  {
   "cell_type": "code",
   "execution_count": 52,
   "id": "6be3752d",
   "metadata": {},
   "outputs": [
    {
     "data": {
      "text/plain": [
       "'Lo siento, no puedo responder a tu pregunta sobre \"Gen AI\" porque la información proporcionada en el contexto se refiere principalmente a la historia del Imperio Romano y no contiene detalles sobre inteligencia artificial o términos relacionados. Si tienes alguna pregunta sobre el Imperio Romano, estaré encantado de ayudarte.'"
      ]
     },
     "execution_count": 52,
     "metadata": {},
     "output_type": "execute_result"
    }
   ],
   "source": [
    "res = chain.invoke(\"What is Gen AI\")\n",
    "res['answer']  # This will return the answer to the question"
   ]
  },
  {
   "cell_type": "code",
   "execution_count": 12,
   "id": "c4f6008b",
   "metadata": {},
   "outputs": [
    {
     "data": {
      "text/plain": [
       "'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'"
      ]
     },
     "execution_count": 12,
     "metadata": {},
     "output_type": "execute_result"
    }
   ],
   "source": [
    "import os\n",
    "GROQ_API_KEY = os.getenv('GROQ_API_KEY')\n",
    "os.environ['GROQ_API_KEY'] = GROQ_API_KEY\n",
    "GROQ_API_KEY"
   ]
  },
  {
   "cell_type": "code",
   "execution_count": 13,
   "id": "859c71a6",
   "metadata": {},
   "outputs": [],
   "source": [
    "\n",
    "from langchain_groq import ChatGroq\n",
    "llm = ChatGroq(\n",
    "    model = 'llama-3.1-8b-instant',\n",
    "    api_key= GROQ_API_KEY\n",
    ")"
   ]
  },
  {
   "cell_type": "code",
   "execution_count": 19,
   "id": "328979df",
   "metadata": {},
   "outputs": [],
   "source": [
    "from langchain.chains import ConversationalRetrievalChain\n",
    "chain = ConversationalRetrievalChain.from_llm(\n",
    "    llm = llm,\n",
    "    retriever = vectorstore.as_retriever(),\n",
    "    memory = ConversationBufferMemory(memory_key='chat_history', return_messages=True)\n",
    ")"
   ]
  },
  {
   "cell_type": "code",
   "execution_count": 17,
   "id": "3cdffba1",
   "metadata": {},
   "outputs": [
    {
     "name": "stdout",
     "output_type": "stream",
     "text": [
      "Gen AI, short for **Generative Artificial Intelligence**, refers to a category of artificial intelligence systems designed to generate new content, such as text, images, music, or other media, based on patterns and data they have been trained on. Unlike traditional AI, which focuses on tasks like classification, prediction, or decision-making, Gen AI creates original outputs that mimic human creativity.\n",
      "\n",
      "Key characteristics of Gen AI include:\n",
      "\n",
      "1. **Generative Models**: These models learn the underlying structure of the training data and use it to produce new, similar content. Examples include **Generative Adversarial Networks (GANs)**, **Variational Autoencoders (VAEs)**, and **Transformer-based models** like GPT (Generative Pre-trained Transformer).\n",
      "\n",
      "2. **Applications**: Gen AI is used in various fields, such as:\n",
      "   - **Text Generation**: Writing articles, stories, or code (e.g., ChatGPT, GPT-4).\n",
      "   - **Image Generation**: Creating art, designs, or realistic images (e.g., DALL·E, MidJourney).\n",
      "   - **Music and Audio**: Composing music or generating voiceovers.\n",
      "   - **Video Generation**: Creating or editing videos.\n",
      "\n",
      "3. **Training Data**: Gen AI models are trained on large datasets, often requiring significant computational resources. The quality and diversity of the training data directly impact the output.\n",
      "\n",
      "4. **Creativity and Innovation**: Gen AI can produce novel and creative outputs, sometimes surpassing human capabilities in specific tasks.\n",
      "\n",
      "5. **Ethical and Practical Challenges**: Issues like bias, misinformation, copyright concerns, and the potential for misuse (e.g., deepfakes) are significant challenges in Gen AI.\n",
      "\n",
      "Gen AI is a rapidly evolving field with immense potential to transform industries, from entertainment and marketing to healthcare and education. However, its development and deployment require careful consideration of ethical and societal implications.\n"
     ]
    }
   ],
   "source": [
    "res = chain.invoke(\"What is Gen AI\")\n",
    "print(res['answer'])"
   ]
  },
  {
   "cell_type": "markdown",
   "id": "8cfcd55f",
   "metadata": {},
   "source": [
    "## RetrievalQA Chain"
   ]
  },
  {
   "cell_type": "code",
   "execution_count": 25,
   "id": "f8889786",
   "metadata": {},
   "outputs": [
    {
     "name": "stdout",
     "output_type": "stream",
     "text": [
      "{'query': 'What is RAG', 'result': \"RAG stands for **Retrieval-Augmented Generation**. It is a technique in natural language processing (NLP) that combines **information retrieval** with **text generation** to improve the accuracy and relevance of responses generated by language models. Here’s a breakdown of how RAG works and its key components:\\n\\n\\n### **How RAG Works:**\\n1. **Retrieval**:\\n   - The system first retrieves relevant documents or passages from a large corpus of text (e.g., a database, knowledge base, or external documents) based on the input query.\\n   - This retrieval step ensures that the model has access to up-to-date, accurate, and contextually relevant information.\\n\\n2. **Augmentation**:\\n   - The retrieved information is then used to augment the input query, providing additional context to the language model.\\n\\n3. **Generation**:\\n   - The language model generates a response based on both the original query and the retrieved information. This ensures that the output is grounded in factual data rather than relying solely on the model's pre-trained knowledge.\\n\\n### **Why RAG is Important:**\\n- **Accuracy**: By grounding responses in retrieved data, RAG reduces hallucinations (incorrect or fabricated information) that are common in purely generative models.\\n- **Relevance**: It ensures that responses are contextually relevant and based on the latest or most accurate information available in the retrieval source.\\n- **Scalability**: RAG can be applied to large datasets without requiring the model to be retrained, making it efficient for dynamic or frequently updated information.\\n\\n### **Applications of RAG:**\\n- **Question Answering**: Providing accurate answers to user queries by retrieving relevant information from a knowledge base.\\n- **Chatbots**: Enhancing chatbot responses with up-to-date information from external sources.\\n- **Content Generation**: Creating articles, reports, or summaries based on retrieved data.\\n- **Fact-Checking**: Verifying claims by retrieving and comparing information from reliable sources.\\n\\n### **Challenges of RAG:**\\n- **Retrieval Quality**: The accuracy of RAG depends heavily on the quality of the retrieval system. Poor retrieval can lead to incorrect or irrelevant responses.\\n- **Latency**: Retrieving information and generating responses can introduce delays, especially with large datasets.\\n- **Complexity**: Implementing RAG requires integrating retrieval and generation systems, which can be technically challenging.\\n\\nRAG is widely used in modern NLP systems, particularly in applications where accuracy and relevance are critical, such as in enterprise search, customer support, and knowledge-based systems.\"}\n"
     ]
    }
   ],
   "source": [
    "from langchain.chains import RetrievalQA\n",
    "retrieval_qa = RetrievalQA.from_chain_type(\n",
    "    llm=llm,\n",
    "    chain_type=\"stuff\",\n",
    "    retriever=vectorstore.as_retriever()\n",
    ")\n",
    "\n",
    "res = retrieval_qa.invoke(\"What is RAG\")\n",
    "print(res)"
   ]
  }
 ],
 "metadata": {
  "kernelspec": {
   "display_name": ".venv",
   "language": "python",
   "name": "python3"
  },
  "language_info": {
   "codemirror_mode": {
    "name": "ipython",
    "version": 3
   },
   "file_extension": ".py",
   "mimetype": "text/x-python",
   "name": "python",
   "nbconvert_exporter": "python",
   "pygments_lexer": "ipython3",
   "version": "3.12.4"
  }
 },
 "nbformat": 4,
 "nbformat_minor": 5
}
