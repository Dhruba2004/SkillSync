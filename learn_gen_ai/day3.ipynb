{
 "cells": [
  {
   "cell_type": "markdown",
   "id": "c0269fae",
   "metadata": {},
   "source": [
    "## Langchain Document Loader"
   ]
  },
  {
   "cell_type": "code",
   "execution_count": null,
   "id": "1c26992b",
   "metadata": {},
   "outputs": [
    {
     "data": {
      "text/plain": [
       "'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'"
      ]
     },
     "execution_count": 2,
     "metadata": {},
     "output_type": "execute_result"
    }
   ],
   "source": [
    "import os\n",
    "\n",
    "from dotenv import load_dotenv\n",
    "\n",
    "load_dotenv()\n",
    "\n",
    "GROQ_API_KEY = os.getenv(\"GROQ_API_KEY\") \n",
    "\n",
    "os.environ['GROQ_API_KEY'] = GROQ_API_KEY\n",
    "\n",
    "GROQ_API_KEY\n"
   ]
  },
  {
   "cell_type": "code",
   "execution_count": 3,
   "id": "4dc703ba",
   "metadata": {},
   "outputs": [],
   "source": [
    "from langchain_groq import ChatGroq\n",
    "llm_groq = ChatGroq(\n",
    "    model = 'llama-3.1-8b-instant',\n",
    "    temperature = 0.1,\n",
    ")"
   ]
  },
  {
   "cell_type": "code",
   "execution_count": 4,
   "id": "e7f41afc",
   "metadata": {},
   "outputs": [
    {
     "data": {
      "text/plain": [
       "('Mail.txt', <http.client.HTTPMessage at 0x24813db2b40>)"
      ]
     },
     "execution_count": 4,
     "metadata": {},
     "output_type": "execute_result"
    }
   ],
   "source": [
    "import urllib.request\n",
    "url ='https://raw.githubusercontent.com/venkatareddykonasani/Datasets/master/Client_Mail/Mail.txt'\n",
    "filename = \"Mail.txt\"\n",
    "urllib.request.urlretrieve(url,filename)"
   ]
  },
  {
   "cell_type": "code",
   "execution_count": 6,
   "id": "cd6e1c67",
   "metadata": {},
   "outputs": [
    {
     "name": "stdout",
     "output_type": "stream",
     "text": [
      "Subject: Urgent Attention Required: Project Delay and Critical Issues\n",
      "Ticket-id: UAT1966286RT5\n",
      "Dear Alex,\n",
      "\n",
      "I hope this message finds you well. I am writing to express my concerns regarding the recent delivery of our project, which, unfortunately, has not met our agreed-upon timelines and quality expectations. As you are aware, the project delivery was delayed by two weeks, which has significantly impacted our operational planning and has had a ripple effect on our commitments to our stakeholders.\n",
      "\n",
      "Upon reviewing the delivered project, we have identified three major bugs that are critical to the functionality and overall performance of the software. These bugs are as follows:\n",
      "\n",
      "1. **Data Syncing Issue:** There is a significant problem with the data syncing mechanism, leading to loss of data between our servers and the client application.\n",
      "2. **User Authentication Flaw:** The user authentication process has a serious vulnerability that could potentially compromise user security and privacy.\n",
      "3. **Payment Gateway Integration Failure:** The integration with the payment gateway is not functioning correctly, preventing any transactions from being processed successfully.\n",
      "\n",
      "Given the critical nature of these issues and the delay already incurred, we find ourselves in a challenging position. While we understand that unexpected hurdles can arise in software development, it is imperative that these issues are addressed with the utmost urgency to mitigate further impacts on our project timeline and quality.\n",
      "\n",
      "We are willing to extend the deadline for these fixes by a maximum of 4 days from the original delivery date. This is the maximum extension we can afford without further jeopardizing our project's success and our commitments. We trust that this timeframe is sufficient for you to prioritize and resolve the identified critical bugs.\n",
      "\n",
      "Please provide us with an immediate action plan, outlining how you intend to address these issues within the given timeframe. It is crucial that we have clear communication and regular updates on your progress to ensure that there are no further delays.\n",
      "\n",
      "We value our partnership and are hopeful for a swift resolution to these issues. Our team is available to discuss this matter further and to provide any necessary support to facilitate these urgent fixes.\n",
      "\n",
      "Thank you for your immediate attention to this matter.\n",
      "\n",
      "Best regards,\n",
      "[John Doe]\n",
      "[Project Manager]\n",
      "[Acme Corporation]\n",
      "\n"
     ]
    }
   ],
   "source": [
    "from langchain.document_loaders import TextLoader\n",
    "loader = TextLoader(filename)\n",
    "loaded_text = loader.load()\n",
    "print(loaded_text[0].page_content)"
   ]
  },
  {
   "cell_type": "code",
   "execution_count": 7,
   "id": "f5fab579",
   "metadata": {},
   "outputs": [],
   "source": [
    "template = \"\"\"\n",
    "Read the following mail and extract the following details:\n",
    "- Name of the person\n",
    "- Main point of the mail\n",
    "- ticket id\n",
    "\n",
    "mail_context - {input_data}\n",
    "\n",
    "\"\"\""
   ]
  },
  {
   "cell_type": "code",
   "execution_count": 8,
   "id": "1ca17f66",
   "metadata": {},
   "outputs": [
    {
     "name": "stdout",
     "output_type": "stream",
     "text": [
      "Here are the extracted details from the mail:\n",
      "\n",
      "1. **Name of the person**: \n",
      "   - Alex (the recipient of the mail)\n",
      "   - John Doe (the sender of the mail)\n",
      "\n",
      "2. **Main point of the mail**: \n",
      "   - The sender, John Doe, is expressing concerns about the recent delivery of a project that has not met the agreed-upon timelines and quality expectations. He is requesting immediate attention to address three critical bugs that have been identified in the project.\n",
      "\n",
      "3. **Ticket ID**: \n",
      "   - UAT1966286RT5\n"
     ]
    }
   ],
   "source": [
    "from langchain.prompts import PromptTemplate\n",
    "prompt = PromptTemplate(\n",
    "    input_variables=['input_data'],\n",
    "    template=template\n",
    ")\n",
    "\n",
    "chain = prompt | llm_groq\n",
    "\n",
    "x = chain.invoke({'input_data':loaded_text})\n",
    "print(x.content)"
   ]
  },
  {
   "cell_type": "markdown",
   "id": "748f133a",
   "metadata": {},
   "source": [
    "## Wikipedia Loader"
   ]
  },
  {
   "cell_type": "code",
   "execution_count": null,
   "id": "370cfbe8",
   "metadata": {},
   "outputs": [
    {
     "name": "stdout",
     "output_type": "stream",
     "text": [
      "Call of Duty is a first-person shooter military video game series and media franchise published by Activision, starting in 2003. The games were first developed by Infinity Ward, then by Treyarch and Sledgehammer Games. Several spin-off and handheld games were made by other developers. The most recent, Call of Duty: Black Ops 6, was released on October 25, 2024.\n",
      "The series originally focused on a World War II setting, with Infinity Ward developing Call of Duty (2003) and Call of Duty 2 (2005) and Treyarch developing Call of Duty 3 (2006). Infinity Ward's Call of Duty 4: Modern Warfare (2007) introduced a modern setting and proved to be the breakthrough title for the series, creating the Modern Warfare sub-series; a Modern Warfare remastered version released in 2016. Two other entries, Modern Warfare 2 (2009) and Modern Warfare 3 (2011), were made. The sub-series received a reboot with Modern Warfare in 2019, Modern Warfare II in 2022, and Modern Warfare III in 2023. Infinity Ward has also developed two games outside of the Modern Warfare sub-series, Ghosts (2013) and Infinite Warfare (2016).\n",
      "Treyarch made one last World War II-based game, World at War (2008), before releasing Black Ops (2010) and subsequently creating the Black Ops sub-series. Five more entries, Black Ops II (2012), Black Ops III (2015), Black Ops 4 (2018), Black Ops Cold War (2020), and Black Ops 6 (2024) were made, the latter two in conjunction with Raven Software. Sledgehammer Games, which were co-developers for Modern Warfare 3, have also developed three titles, Advanced Warfare (2014), WWII (2017), and Vanguard (2021). They are also the lead developer for Modern Warfare III (2023), the third entry in the Modern Warfare reboot sub-series.\n",
      "As of October 2023, Call of Duty has sold over 500 million copies and has 100 million monthly active players across all platforms. The franchise generated $30 billion in revenue by 2022. The series is verified by the Guinness World Records as the best-selling first-person shooter game series. It is also the most successful video game franchise created in the United States and the third best-selling video game franchise of all time. Other products in the franchise include a line of action figures designed by Plan B Toys, a card game created by Upper Deck Company, Mega Bloks sets by Mega Brands, and a comic book miniseries published by WildStorm Productions, and a feature film in development.\n",
      "\n",
      "\n",
      "== Main series ==\n",
      "\n",
      "\n",
      "=== World War II games ===\n",
      "\n",
      "\n",
      "==== Call of Duty ====\n",
      "\n",
      "Call of Duty is a first-person shooter video game based on id Tech 3, and was released on October 29, 2003. The game was developed by Infinity Ward and published by Activision. The game simulates the infantry and combined arms warfare of World War II. An expansion pack, Call of Duty: United Offensive, was developed by Gray Matter Studios with contributions from Pi Studios and produced by Activision. The game follows American and British paratroopers and the Red Army. The Mac OS X version of the game was ported by Aspyr Media. In late 2004, the N-Gage version was developed by Nokia and published by Activision. Other versions were released for PC, including Collector's Edition (with soundtrack and strategy guide), Game of the Year Edition (includes game updates), and the Deluxe Edition (which contains the United Offensive expansion and soundtrack; in Europe the soundtrack was not included). On September 22, 2006, Call of Duty, United Offensive, and Call of Duty 2 were released together as Call of Duty: War Chest for PC. Since November 12, 2007, Call of Duty games have been available for purchase via Valve's content delivery platform Steam.\n",
      "\n",
      "\n",
      "==== Call of Duty 2 ====\n",
      "\n",
      "Call of Duty 2 is a first-person shooter video game and the sequel to Call of Duty. It was developed by Infinity Ward and published by Activision. The game is set during World War II and is experienced through the perspectives of soldiers in the Red Army, British Army, and United States Army. It was re\n"
     ]
    }
   ],
   "source": [
    "from langchain.document_loaders import WikipediaLoader\n",
    "\n",
    "loader = WikipediaLoader(query='Call Of Duty',load_max_docs=4)\n",
    "\n",
    "wiki_loaded_text = loader.load()\n",
    "\n",
    "print(wiki_loaded_text[0].page_content)"
   ]
  },
  {
   "cell_type": "markdown",
   "id": "ba08768c",
   "metadata": {},
   "source": [
    "## Youtube Loader"
   ]
  },
  {
   "cell_type": "code",
   "execution_count": 18,
   "id": "9c4b5ccc",
   "metadata": {},
   "outputs": [
    {
     "name": "stdout",
     "output_type": "stream",
     "text": [
      "[Music] Superman, [Music] the most powerful being on planet Earth. [Music] We finally meet now as planned. I'll destroy you. And of course, that reporter you always do interviews with who raised you as a child. I'll kill them, too. [Music] No matter what you do to me, loser, your plans will work. Wrap it up. Good luck with that. Make a move, big blue. [Music] They chose him. Let them die. [Music] Hey, quit messing around. I'm not messing around. I'm doing important stuff. [Music] Hey buddy, eyes up here. [Music]\n"
     ]
    }
   ],
   "source": [
    "from langchain.document_loaders import YoutubeLoader\n",
    "\n",
    "url = 'https://www.youtube.com/watch?v=OfpXgjP4AOs'\n",
    "\n",
    "loader = YoutubeLoader.from_youtube_url(url)\n",
    "\n",
    "youtube_file_data = loader.load()\n",
    "\n",
    "print(youtube_file_data[0].page_content)"
   ]
  },
  {
   "cell_type": "code",
   "execution_count": 19,
   "id": "15c85b26",
   "metadata": {},
   "outputs": [],
   "source": [
    "template = \"\"\"  \n",
    "Based on the youtube video extract the following details:\n",
    "- Summary of the video\n",
    "- Title of the video\n",
    "- Description\n",
    "\n",
    "video_context = {input_data}\n",
    "\"\"\""
   ]
  },
  {
   "cell_type": "code",
   "execution_count": 20,
   "id": "80d2cce5",
   "metadata": {},
   "outputs": [
    {
     "name": "stdout",
     "output_type": "stream",
     "text": [
      "Based on the provided video context, here are the extracted details:\n",
      "\n",
      "- **Summary of the video**: The video appears to be a dramatic and intense scene from a superhero movie or TV show, where the villain (likely Lex Luthor) is threatening Superman and a reporter who raised him as a child. The tone is aggressive and menacing.\n",
      "\n",
      "- **Title of the video**: Unfortunately, the title of the video is not provided in the given context. However, based on the content, a possible title could be \"Lex Luthor Threatens Superman and Lois Lane\".\n",
      "\n",
      "- **Description**: Unfortunately, the description of the video is not provided in the given context. However, based on the content, a possible description could be \"Lex Luthor vows to destroy Superman and Lois Lane in this intense confrontation\".\n"
     ]
    }
   ],
   "source": [
    "from langchain.prompts import PromptTemplate\n",
    "\n",
    "prompt = PromptTemplate(\n",
    "    template=template,\n",
    "    input_variables=[{'input_data':youtube_file_data}]\n",
    ")\n",
    "\n",
    "chain = prompt | llm_groq\n",
    "\n",
    "x = chain.invoke({'input_data':youtube_file_data})\n",
    "\n",
    "print(x.content)"
   ]
  },
  {
   "cell_type": "markdown",
   "id": "820ce8d8",
   "metadata": {},
   "source": [
    "## CSV Loader\n"
   ]
  },
  {
   "cell_type": "code",
   "execution_count": 21,
   "id": "6ea07111",
   "metadata": {},
   "outputs": [
    {
     "data": {
      "text/plain": [
       "('Leads.csv', <http.client.HTTPMessage at 0x24825671b80>)"
      ]
     },
     "execution_count": 21,
     "metadata": {},
     "output_type": "execute_result"
    }
   ],
   "source": [
    "from langchain.document_loaders import CSVLoader\n",
    "\n",
    "import urllib.request\n",
    "url = 'https://raw.githubusercontent.com/venkatareddykonasani/Datasets/master/Leads.csv'\n",
    "filename = 'Leads.csv'\n",
    "urllib.request.urlretrieve(url,filename)"
   ]
  },
  {
   "cell_type": "code",
   "execution_count": 22,
   "id": "bf4ae1ee",
   "metadata": {},
   "outputs": [
    {
     "data": {
      "text/plain": [
       "[Document(metadata={'source': 'Leads.csv', 'row': 0}, page_content='Week_num: 1\\nLeads: 756.48\\nPromotion_Budget: 51735.6'),\n",
       " Document(metadata={'source': 'Leads.csv', 'row': 1}, page_content='Week_num: 2\\nLeads: 878.72\\nPromotion_Budget: 64608.6'),\n",
       " Document(metadata={'source': 'Leads.csv', 'row': 2}, page_content='Week_num: 3\\nLeads: 857.92\\nPromotion_Budget: 63833'),\n",
       " Document(metadata={'source': 'Leads.csv', 'row': 3}, page_content='Week_num: 4\\nLeads: 715.84\\nPromotion_Budget: 50649.2'),\n",
       " Document(metadata={'source': 'Leads.csv', 'row': 4}, page_content='Week_num: 5\\nLeads: 772.48\\nPromotion_Budget: 60965.8'),\n",
       " Document(metadata={'source': 'Leads.csv', 'row': 5}, page_content='Week_num: 6\\nLeads: 714.88\\nPromotion_Budget: 47608.4'),\n",
       " Document(metadata={'source': 'Leads.csv', 'row': 6}, page_content='Week_num: 7\\nLeads: 815.04\\nPromotion_Budget: 63597.8'),\n",
       " Document(metadata={'source': 'Leads.csv', 'row': 7}, page_content='Week_num: 8\\nLeads: 691.84\\nPromotion_Budget: 49515.2'),\n",
       " Document(metadata={'source': 'Leads.csv', 'row': 8}, page_content='Week_num: 9\\nLeads: 702.72\\nPromotion_Budget: 42980'),\n",
       " Document(metadata={'source': 'Leads.csv', 'row': 9}, page_content='Week_num: 10\\nLeads: 866.56\\nPromotion_Budget: 61332.6'),\n",
       " Document(metadata={'source': 'Leads.csv', 'row': 10}, page_content='Week_num: 11\\nLeads: 699.2\\nPromotion_Budget: 49275.8'),\n",
       " Document(metadata={'source': 'Leads.csv', 'row': 11}, page_content='Week_num: 12\\nLeads: 889.28\\nPromotion_Budget: 60072.6'),\n",
       " Document(metadata={'source': 'Leads.csv', 'row': 12}, page_content='Week_num: 13\\nLeads: 729.28\\nPromotion_Budget: 45696'),\n",
       " Document(metadata={'source': 'Leads.csv', 'row': 13}, page_content='Week_num: 14\\nLeads: 889.28\\nPromotion_Budget: 58609.6'),\n",
       " Document(metadata={'source': 'Leads.csv', 'row': 14}, page_content='Week_num: 15\\nLeads: 1037.76\\nPromotion_Budget: 70480.2'),\n",
       " Document(metadata={'source': 'Leads.csv', 'row': 15}, page_content='Week_num: 16\\nLeads: 736\\nPromotion_Budget: 53697'),\n",
       " Document(metadata={'source': 'Leads.csv', 'row': 16}, page_content='Week_num: 17\\nLeads: 973.76\\nPromotion_Budget: 74230.8'),\n",
       " Document(metadata={'source': 'Leads.csv', 'row': 17}, page_content='Week_num: 18\\nLeads: 749.12\\nPromotion_Budget: 50023.4'),\n",
       " Document(metadata={'source': 'Leads.csv', 'row': 18}, page_content='Week_num: 19\\nLeads: 896\\nPromotion_Budget: 57068.2'),\n",
       " Document(metadata={'source': 'Leads.csv', 'row': 19}, page_content='Week_num: 20\\nLeads: 1120.64\\nPromotion_Budget: 82642'),\n",
       " Document(metadata={'source': 'Leads.csv', 'row': 20}, page_content='Week_num: 21\\nLeads: 1176\\nPromotion_Budget: 76104'),\n",
       " Document(metadata={'source': 'Leads.csv', 'row': 21}, page_content='Week_num: 22\\nLeads: 1148.8\\nPromotion_Budget: 75346.6'),\n",
       " Document(metadata={'source': 'Leads.csv', 'row': 22}, page_content='Week_num: 23\\nLeads: 655.04\\nPromotion_Budget: 50271.2'),\n",
       " Document(metadata={'source': 'Leads.csv', 'row': 23}, page_content='Week_num: 24\\nLeads: 868.48\\nPromotion_Budget: 65385.6'),\n",
       " Document(metadata={'source': 'Leads.csv', 'row': 24}, page_content='Week_num: 25\\nLeads: 919.36\\nPromotion_Budget: 70674.8'),\n",
       " Document(metadata={'source': 'Leads.csv', 'row': 25}, page_content='Week_num: 26\\nLeads: 776.32\\nPromotion_Budget: 53260.2'),\n",
       " Document(metadata={'source': 'Leads.csv', 'row': 26}, page_content='Week_num: 27\\nLeads: 703.36\\nPromotion_Budget: 51807'),\n",
       " Document(metadata={'source': 'Leads.csv', 'row': 27}, page_content='Week_num: 28\\nLeads: 689.92\\nPromotion_Budget: 53937.8'),\n",
       " Document(metadata={'source': 'Leads.csv', 'row': 28}, page_content='Week_num: 29\\nLeads: 684.16\\nPromotion_Budget: 41412'),\n",
       " Document(metadata={'source': 'Leads.csv', 'row': 29}, page_content='Week_num: 30\\nLeads: 886.4\\nPromotion_Budget: 65333.8'),\n",
       " Document(metadata={'source': 'Leads.csv', 'row': 30}, page_content='Week_num: 31\\nLeads: 736\\nPromotion_Budget: 47217.8'),\n",
       " Document(metadata={'source': 'Leads.csv', 'row': 31}, page_content='Week_num: 32\\nLeads: 958.72\\nPromotion_Budget: 62008.8'),\n",
       " Document(metadata={'source': 'Leads.csv', 'row': 32}, page_content='Week_num: 33\\nLeads: 920\\nPromotion_Budget: 68660.2'),\n",
       " Document(metadata={'source': 'Leads.csv', 'row': 33}, page_content='Week_num: 34\\nLeads: 655.04\\nPromotion_Budget: 52479'),\n",
       " Document(metadata={'source': 'Leads.csv', 'row': 34}, page_content='Week_num: 35\\nLeads: 710.4\\nPromotion_Budget: 55001.8'),\n",
       " Document(metadata={'source': 'Leads.csv', 'row': 35}, page_content='Week_num: 36\\nLeads: 864\\nPromotion_Budget: 56350'),\n",
       " Document(metadata={'source': 'Leads.csv', 'row': 36}, page_content='Week_num: 37\\nLeads: 927.04\\nPromotion_Budget: 64118.6'),\n",
       " Document(metadata={'source': 'Leads.csv', 'row': 37}, page_content='Week_num: 38\\nLeads: 857.6\\nPromotion_Budget: 57174.6'),\n",
       " Document(metadata={'source': 'Leads.csv', 'row': 38}, page_content='Week_num: 39\\nLeads: 726.08\\nPromotion_Budget: 46547.2'),\n",
       " Document(metadata={'source': 'Leads.csv', 'row': 39}, page_content='Week_num: 40\\nLeads: 752\\nPromotion_Budget: 59511.2'),\n",
       " Document(metadata={'source': 'Leads.csv', 'row': 40}, page_content='Week_num: 41\\nLeads: 939.2\\nPromotion_Budget: 67228'),\n",
       " Document(metadata={'source': 'Leads.csv', 'row': 41}, page_content='Week_num: 42\\nLeads: 907.52\\nPromotion_Budget: 57484'),\n",
       " Document(metadata={'source': 'Leads.csv', 'row': 42}, page_content='Week_num: 43\\nLeads: 608.64\\nPromotion_Budget: 37395.4'),\n",
       " Document(metadata={'source': 'Leads.csv', 'row': 43}, page_content='Week_num: 44\\nLeads: 577.92\\nPromotion_Budget: 36568'),\n",
       " Document(metadata={'source': 'Leads.csv', 'row': 44}, page_content='Week_num: 45\\nLeads: 645.44\\nPromotion_Budget: 41637.4'),\n",
       " Document(metadata={'source': 'Leads.csv', 'row': 45}, page_content='Week_num: 46\\nLeads: 758.72\\nPromotion_Budget: 51154.6'),\n",
       " Document(metadata={'source': 'Leads.csv', 'row': 46}, page_content='Week_num: 47\\nLeads: 668.16\\nPromotion_Budget: 48696.2'),\n",
       " Document(metadata={'source': 'Leads.csv', 'row': 47}, page_content='Week_num: 48\\nLeads: 861.76\\nPromotion_Budget: 65871.4'),\n",
       " Document(metadata={'source': 'Leads.csv', 'row': 48}, page_content='Week_num: 49\\nLeads: 805.44\\nPromotion_Budget: 63128.8'),\n",
       " Document(metadata={'source': 'Leads.csv', 'row': 49}, page_content='Week_num: 50\\nLeads: 809.28\\nPromotion_Budget: 57325.8'),\n",
       " Document(metadata={'source': 'Leads.csv', 'row': 50}, page_content='Week_num: 51\\nLeads: 874.56\\nPromotion_Budget: 59049.2'),\n",
       " Document(metadata={'source': 'Leads.csv', 'row': 51}, page_content='Week_num: 52\\nLeads: 940.8\\nPromotion_Budget: 69456.8'),\n",
       " Document(metadata={'source': 'Leads.csv', 'row': 52}, page_content='Week_num: 53\\nLeads: 690.24\\nPromotion_Budget: 49344.4'),\n",
       " Document(metadata={'source': 'Leads.csv', 'row': 53}, page_content='Week_num: 54\\nLeads: 1152\\nPromotion_Budget: 78171.8'),\n",
       " Document(metadata={'source': 'Leads.csv', 'row': 54}, page_content='Week_num: 55\\nLeads: 721.28\\nPromotion_Budget: 52616.2'),\n",
       " Document(metadata={'source': 'Leads.csv', 'row': 55}, page_content='Week_num: 56\\nLeads: 987.84\\nPromotion_Budget: 70707'),\n",
       " Document(metadata={'source': 'Leads.csv', 'row': 56}, page_content='Week_num: 57\\nLeads: 847.56\\nPromotion_Budget: 54551'),\n",
       " Document(metadata={'source': 'Leads.csv', 'row': 57}, page_content='Week_num: 58\\nLeads: 771.68\\nPromotion_Budget: 55517'),\n",
       " Document(metadata={'source': 'Leads.csv', 'row': 58}, page_content='Week_num: 59\\nLeads: 574\\nPromotion_Budget: 40591.6'),\n",
       " Document(metadata={'source': 'Leads.csv', 'row': 59}, page_content='Week_num: 60\\nLeads: 1103.2\\nPromotion_Budget: 73879.4'),\n",
       " Document(metadata={'source': 'Leads.csv', 'row': 60}, page_content='Week_num: 61\\nLeads: 1049.44\\nPromotion_Budget: 66677.8'),\n",
       " Document(metadata={'source': 'Leads.csv', 'row': 61}, page_content='Week_num: 62\\nLeads: 1089.48\\nPromotion_Budget: 71549.8'),\n",
       " Document(metadata={'source': 'Leads.csv', 'row': 62}, page_content='Week_num: 63\\nLeads: 1084.44\\nPromotion_Budget: 75441.8'),\n",
       " Document(metadata={'source': 'Leads.csv', 'row': 63}, page_content='Week_num: 64\\nLeads: 1468.88\\nPromotion_Budget: 101213'),\n",
       " Document(metadata={'source': 'Leads.csv', 'row': 64}, page_content='Week_num: 65\\nLeads: 1342.6\\nPromotion_Budget: 100300.2'),\n",
       " Document(metadata={'source': 'Leads.csv', 'row': 65}, page_content='Week_num: 66\\nLeads: 799.68\\nPromotion_Budget: 58952.6'),\n",
       " Document(metadata={'source': 'Leads.csv', 'row': 66}, page_content='Week_num: 67\\nLeads: 839.44\\nPromotion_Budget: 55087.2'),\n",
       " Document(metadata={'source': 'Leads.csv', 'row': 67}, page_content='Week_num: 68\\nLeads: 874.44\\nPromotion_Budget: 65268'),\n",
       " Document(metadata={'source': 'Leads.csv', 'row': 68}, page_content='Week_num: 69\\nLeads: 1539.44\\nPromotion_Budget: 104179.6'),\n",
       " Document(metadata={'source': 'Leads.csv', 'row': 69}, page_content='Week_num: 70\\nLeads: 1163.12\\nPromotion_Budget: 88181.8'),\n",
       " Document(metadata={'source': 'Leads.csv', 'row': 70}, page_content='Week_num: 71\\nLeads: 1046.08\\nPromotion_Budget: 67993.8'),\n",
       " Document(metadata={'source': 'Leads.csv', 'row': 71}, page_content='Week_num: 72\\nLeads: 1530.48\\nPromotion_Budget: 102445'),\n",
       " Document(metadata={'source': 'Leads.csv', 'row': 72}, page_content='Week_num: 73\\nLeads: 1212.4\\nPromotion_Budget: 84457.8'),\n",
       " Document(metadata={'source': 'Leads.csv', 'row': 73}, page_content='Week_num: 74\\nLeads: 640.36\\nPromotion_Budget: 44542.4'),\n",
       " Document(metadata={'source': 'Leads.csv', 'row': 74}, page_content='Week_num: 75\\nLeads: 1036.28\\nPromotion_Budget: 66914.4'),\n",
       " Document(metadata={'source': 'Leads.csv', 'row': 75}, page_content='Week_num: 76\\nLeads: 1338.68\\nPromotion_Budget: 92769.6'),\n",
       " Document(metadata={'source': 'Leads.csv', 'row': 76}, page_content='Week_num: 77\\nLeads: 1624.56\\nPromotion_Budget: 110825.4'),\n",
       " Document(metadata={'source': 'Leads.csv', 'row': 77}, page_content='Week_num: 78\\nLeads: 865.76\\nPromotion_Budget: 63816.2'),\n",
       " Document(metadata={'source': 'Leads.csv', 'row': 78}, page_content='Week_num: 79\\nLeads: 876.68\\nPromotion_Budget: 63663.6'),\n",
       " Document(metadata={'source': 'Leads.csv', 'row': 79}, page_content='Week_num: 80\\nLeads: 817.04\\nPromotion_Budget: 57500.8')]"
      ]
     },
     "execution_count": 22,
     "metadata": {},
     "output_type": "execute_result"
    }
   ],
   "source": [
    "loader = CSVLoader(filename)\n",
    "loaded_csv = loader.load()\n",
    "loaded_csv\n"
   ]
  },
  {
   "cell_type": "code",
   "execution_count": 24,
   "id": "d31d05f1",
   "metadata": {},
   "outputs": [
    {
     "name": "stdout",
     "output_type": "stream",
     "text": [
      "Based on the provided data, here are the extracted information:\n",
      "\n",
      "- Maximum of the Promotion_Budget: 110825.4 (Week 77)\n",
      "- Maximum of the Leads: 1624.56 (Week 77)\n",
      "- Average of the Promotion_Budget: The average of the Promotion_Budget is calculated by summing up all the Promotion_Budget values and dividing by the total number of weeks. The sum of the Promotion_Budget values is 4,333,111.4 and the total number of weeks is 80. Therefore, the average of the Promotion_Budget is 54,164.64.\n",
      "- Average of the Leads: The average of the Leads is calculated by summing up all the Leads values and dividing by the total number of weeks. The sum of the Leads values is 63,511.28 and the total number of weeks is 80. Therefore, the average of the Leads is 794.64.\n"
     ]
    }
   ],
   "source": [
    "template = \"\"\" \n",
    "Read the following data and extract below information and don't give me any code just analyze the data :\n",
    "- Maximum of the Promotion_Budget\n",
    "- Maximum of the  Leads\n",
    "- Average of the Promotion_Budget\n",
    "- Average of the Lead\n",
    "\n",
    "Data - {input_data}\n",
    "\n",
    "\"\"\"\n",
    "\n",
    "prompt = PromptTemplate(\n",
    "    input_variables=['input_data'],\n",
    "    template=template\n",
    ")\n",
    "\n",
    "chain = prompt | llm_groq\n",
    "\n",
    "x = chain.invoke({'input_data':loaded_csv})\n",
    "\n",
    "print(x.content)"
   ]
  }
 ],
 "metadata": {
  "kernelspec": {
   "display_name": ".venv",
   "language": "python",
   "name": "python3"
  },
  "language_info": {
   "codemirror_mode": {
    "name": "ipython",
    "version": 3
   },
   "file_extension": ".py",
   "mimetype": "text/x-python",
   "name": "python",
   "nbconvert_exporter": "python",
   "pygments_lexer": "ipython3",
   "version": "3.12.4"
  }
 },
 "nbformat": 4,
 "nbformat_minor": 5
}
