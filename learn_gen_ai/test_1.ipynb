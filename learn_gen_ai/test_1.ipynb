{
 "cells": [
  {
   "cell_type": "code",
   "execution_count": 1,
   "id": "481069dd",
   "metadata": {},
   "outputs": [
    {
     "name": "stdout",
     "output_type": "stream",
     "text": [
      "Machine learning is a branch of artificial intelligence (AI) and computer science that focuses on developing algorithms and models that can teach themselves how to perform specific tasks, or learn patterns from data. It is a process that allows computers to analyze data, identify patterns, make predictions, and make decisions without relying strictly on pre-programmed rules. \n",
      "\n",
      "Machine learning is a powerful tool that helps solve complex problems and can be applied to various tasks, such as image and speech recognition, recommendation systems, predictive analytics, and many other fields.  It also plays a critical role in many areas of technology and various industries.\n"
     ]
    },
    {
     "data": {
      "text/plain": [
       "\"import google.generativeai as genai\\ngenai.configure(api_key=GEMINI_API_KEY)\\nmodel = genai.GenerativeModel(model_name='gemini-2.0-flash')\\nresponse = model.generate_content('Explain the concept of neural networks in simple terms.')\\nprint(response.text)\\nresponse\""
      ]
     },
     "execution_count": 1,
     "metadata": {},
     "output_type": "execute_result"
    }
   ],
   "source": [
    "'''import os\n",
    "from dotenv import load_dotenv\n",
    "load_dotenv()\n",
    "\n",
    "COHERE_API_KEY = os.getenv(\"COHERE_API_KEY\")\n",
    "\n",
    "os.environ[\"COHERE_API_KEY\"] = COHERE_API_KEY\n",
    "\n",
    "from langchain.llms import Cohere\n",
    "llm = Cohere()\n",
    "x = llm.invoke(\"What is Gen AI?\")\n",
    "print(x)'''\n",
    "\n",
    "#Chat Cohere\n",
    "from langchain_cohere import ChatCohere\n",
    "\n",
    "llm2 = ChatCohere(model=\"command-light\")\n",
    "\n",
    "res = llm2.invoke(\"What is machine learning?\")\n",
    "\n",
    "print(res.content)\n",
    "\n",
    "#Google Gemini Model\n",
    "import os\n",
    "from dotenv import load_dotenv\n",
    "load_dotenv()\n",
    "GEMINI_API_KEY = os.getenv('GEMINI_API_KEY')\n",
    "\n",
    "os.environ['GEMINI_API_KEY'] = GEMINI_API_KEY\n",
    "\n",
    "'''from langchain_google_genai import ChatGoogleGenerativeAI\n",
    "\n",
    "llm_gemini = ChatGoogleGenerativeAI(\n",
    "    model=\"gemini-2.0-flash\",\n",
    "    api_key = GEMINI_API_KEY\n",
    ")'''\n",
    "\n",
    "\n",
    "'''import google.generativeai as genai\n",
    "genai.configure(api_key=GEMINI_API_KEY)\n",
    "model = genai.GenerativeModel(model_name='gemini-2.0-flash')\n",
    "response = model.generate_content('Explain the concept of neural networks in simple terms.')\n",
    "print(response.text)\n",
    "response'''\n",
    "\n",
    "\n",
    "\n"
   ]
  }
 ],
 "metadata": {
  "kernelspec": {
   "display_name": ".venv (3.12.4)",
   "language": "python",
   "name": "python3"
  },
  "language_info": {
   "codemirror_mode": {
    "name": "ipython",
    "version": 3
   },
   "file_extension": ".py",
   "mimetype": "text/x-python",
   "name": "python",
   "nbconvert_exporter": "python",
   "pygments_lexer": "ipython3",
   "version": "3.12.4"
  }
 },
 "nbformat": 4,
 "nbformat_minor": 5
}
